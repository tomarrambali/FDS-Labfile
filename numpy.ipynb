{
  "nbformat": 4,
  "nbformat_minor": 0,
  "metadata": {
    "colab": {
      "provenance": [],
      "include_colab_link": true
    },
    "kernelspec": {
      "name": "python3",
      "display_name": "Python 3"
    },
    "language_info": {
      "name": "python"
    }
  },
  "cells": [
    {
      "cell_type": "markdown",
      "metadata": {
        "id": "view-in-github",
        "colab_type": "text"
      },
      "source": [
        "<a href=\"https://colab.research.google.com/github/tomarrambali/FDS-Labfile/blob/main/numpy.ipynb\" target=\"_parent\"><img src=\"https://colab.research.google.com/assets/colab-badge.svg\" alt=\"Open In Colab\"/></a>"
      ]
    },
    {
      "cell_type": "markdown",
      "source": [
        "Q1. Write a Numpy program to get the Numpy version."
      ],
      "metadata": {
        "id": "WPR6a62Xf5lA"
      }
    },
    {
      "cell_type": "code",
      "execution_count": null,
      "metadata": {
        "colab": {
          "base_uri": "https://localhost:8080/"
        },
        "id": "XAWwoo6bfwo_",
        "outputId": "5aa5fc34-40e9-48f2-e377-fc7b8784fc65"
      },
      "outputs": [
        {
          "output_type": "stream",
          "name": "stdout",
          "text": [
            "1.25.2\n"
          ]
        }
      ],
      "source": [
        "import numpy as np\n",
        "print(np.__version__)"
      ]
    },
    {
      "cell_type": "markdown",
      "source": [
        " Q2. Write a NumPy program to test whether none of the\n",
        "elements of a given array are zero."
      ],
      "metadata": {
        "id": "OfXutKhFgM5L"
      }
    },
    {
      "cell_type": "code",
      "source": [
        "import numpy as np\n",
        "arr=np.array([2,3,4,5,68])\n",
        "print(arr)\n",
        "print(np.all(arr))\n"
      ],
      "metadata": {
        "colab": {
          "base_uri": "https://localhost:8080/"
        },
        "id": "GljO-1bMgR0M",
        "outputId": "f4a8700b-8059-4fa7-cd1d-40c4c0c5505b"
      },
      "execution_count": null,
      "outputs": [
        {
          "output_type": "stream",
          "name": "stdout",
          "text": [
            "[ 2  3  4  5 68]\n",
            "True\n"
          ]
        }
      ]
    },
    {
      "cell_type": "markdown",
      "source": [
        "Q3. Write a NumPy program to create an element-wise\n",
        "comparison (greater, greater_equal, less and less_equal) of\n",
        "two given arrays."
      ],
      "metadata": {
        "id": "16r6vZVYlAmY"
      }
    },
    {
      "cell_type": "code",
      "source": [
        "\n",
        "# numpy.greater method\n",
        "# numpy.less method\n",
        "# numpy.greater equal Method\n",
        "# numpy.less equal method is used in solve this problem\n",
        "import numpy as np\n",
        "arry1=np.array([1,2,3,4,5,6])\n",
        "arry2=np.array([2,6,7,8,9,10])\n",
        "print(\"greater\",np.greater(arry1,arry2))\n",
        "print(\"greater_equal\",np.greater_equal(arry1,arry2))\n",
        "print(\"less\",np.less(arry1,arry2))\n",
        "print(\"less_equal\",np.less_equal(arry1,arry2))\n",
        "\n",
        "\n"
      ],
      "metadata": {
        "colab": {
          "base_uri": "https://localhost:8080/"
        },
        "id": "9jLyjb4klFpe",
        "outputId": "62aabea7-634c-47ed-c523-d8814b455429"
      },
      "execution_count": null,
      "outputs": [
        {
          "output_type": "stream",
          "name": "stdout",
          "text": [
            "greater [False False False False False False]\n",
            "greater_equal [False False False False False False]\n",
            "less [ True  True  True  True  True  True]\n",
            "less_equal [ True  True  True  True  True  True]\n"
          ]
        }
      ]
    },
    {
      "cell_type": "markdown",
      "source": [
        "Q4. Write a NumPy program to create an array with the values\n",
        "1, 7, 13, 105 and determine the size of the memory occupied\n",
        "by the array."
      ],
      "metadata": {
        "id": "gOYPrUZajomJ"
      }
    },
    {
      "cell_type": "code",
      "source": [
        "import numpy as np\n",
        "data=np.array([1,7,13,105])\n",
        "print(\"Size of the memory occupied by the said array:\")\n",
        "print(data.size*data.itemsize,\"Bytes\")\n"
      ],
      "metadata": {
        "colab": {
          "base_uri": "https://localhost:8080/"
        },
        "id": "z67GMC6NjrLD",
        "outputId": "b0a5583e-992c-4e9a-acdc-83f40d990085"
      },
      "execution_count": null,
      "outputs": [
        {
          "output_type": "stream",
          "name": "stdout",
          "text": [
            "Size of the memory occupied by the said array:\n",
            "32 Bytes\n"
          ]
        }
      ]
    },
    {
      "cell_type": "markdown",
      "source": [
        "Q5. Write a NumPy program to create an array of integers\n",
        "from 30 to 70."
      ],
      "metadata": {
        "id": "fQytoeoFhH2f"
      }
    },
    {
      "cell_type": "code",
      "source": [
        "import numpy as np\n",
        "# numpy.arange method\n",
        "arr = np.arange(30,70)\n",
        "print(\"\\n from 30,70 integer:\\n\" ,arr)"
      ],
      "metadata": {
        "colab": {
          "base_uri": "https://localhost:8080/"
        },
        "id": "zeJJU9uMhJbO",
        "outputId": "8b28d53b-dbfb-46a1-9736-22cbb8f69f56"
      },
      "execution_count": null,
      "outputs": [
        {
          "output_type": "stream",
          "name": "stdout",
          "text": [
            "\n",
            " from 30,70 integer:\n",
            " [30 31 32 33 34 35 36 37 38 39 40 41 42 43 44 45 46 47 48 49 50 51 52 53\n",
            " 54 55 56 57 58 59 60 61 62 63 64 65 66 67 68 69]\n"
          ]
        }
      ]
    },
    {
      "cell_type": "markdown",
      "source": [
        " Q6. Write a NumPy program to create an array of all even\n",
        "integers from 30 to 70."
      ],
      "metadata": {
        "id": "h8nbfgCIikU_"
      }
    },
    {
      "cell_type": "code",
      "source": [
        "import numpy as np\n",
        "#numpy.arrang methode is use the and the 30 is first number and 70 is the second number and last two number is divisible number\n",
        "arr = np.arange(30,70,2)\n",
        "print(\"\\n from 30,70 to even  integer:\\n\" ,arr)"
      ],
      "metadata": {
        "colab": {
          "base_uri": "https://localhost:8080/"
        },
        "id": "qIpHdeyaio3R",
        "outputId": "487af15c-fb82-49a2-8406-807edace605e"
      },
      "execution_count": null,
      "outputs": [
        {
          "output_type": "stream",
          "name": "stdout",
          "text": [
            "\n",
            " from 30,70 to even  integer:\n",
            " [30 32 34 36 38 40 42 44 46 48 50 52 54 56 58 60 62 64 66 68]\n"
          ]
        }
      ]
    },
    {
      "cell_type": "markdown",
      "source": [
        "Q7.  Write a NumPy program to create a 3x3 identity matrix.\n",
        "Write a search NumPy program to create a 3X4 array and\n",
        "iterate over it."
      ],
      "metadata": {
        "id": "XNPcYYnWnCba"
      }
    },
    {
      "cell_type": "code",
      "source": [
        "import numpy as np\n",
        "a = np.arange(101,110).reshape((3, 3))\n",
        "print(\"Original array:\")\n",
        "print(a)\n",
        "print(\"Each element of the array is:\")\n",
        "for x in np.nditer(a):\n",
        "      print(x,end=\"\" )"
      ],
      "metadata": {
        "colab": {
          "base_uri": "https://localhost:8080/"
        },
        "id": "5XH7ZpuZnD01",
        "outputId": "b5aa62ec-b4dd-4549-f320-4c84b518d152"
      },
      "execution_count": null,
      "outputs": [
        {
          "output_type": "stream",
          "name": "stdout",
          "text": [
            "Original array:\n",
            "[[101 102 103]\n",
            " [104 105 106]\n",
            " [107 108 109]]\n",
            "Each element of the array is:\n",
            "101102103104105106107108109"
          ]
        }
      ]
    }
  ]
}